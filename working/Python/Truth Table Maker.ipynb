{
 "cells": [
  {
   "cell_type": "markdown",
   "metadata": {},
   "source": [
    "#### -*- coding: utf-8 -*-\n",
    "\n",
    "Created on Thu Jul 12 06:59:45 2018\n",
    "\n",
    "@author: Prashant\n"
   ]
  },
  {
   "cell_type": "code",
   "execution_count": 1,
   "metadata": {},
   "outputs": [],
   "source": [
    "import json\n",
    "import ast"
   ]
  },
  {
   "cell_type": "code",
   "execution_count": 2,
   "metadata": {},
   "outputs": [
    {
     "name": "stdout",
     "output_type": "stream",
     "text": [
      "No of Input in IC  : 0\n",
      "No of Output in IC : 0\n"
     ]
    }
   ],
   "source": [
    "ip = int(input(\"No of Input in IC  : \"))\n",
    "op = int(input(\"No of Output in IC : \"))\n",
    "\n",
    "line = ip if ip > op else op"
   ]
  },
  {
   "cell_type": "markdown",
   "metadata": {},
   "source": [
    "### JSON Text Genration "
   ]
  },
  {
   "cell_type": "code",
   "execution_count": 3,
   "metadata": {},
   "outputs": [],
   "source": [
    "a = '{\"head\": {\"no_of_input\": '+str(ip)+',\"no_of_output\": '+str(ip)+'}, \"inputs\": {'\n",
    "for i in range(2**line):\n",
    "    tmp = \"\"\n",
    "    for j in range(ip):\n",
    "        tmp += str(bool(int(input())))\n",
    "        if j != ip-1:\n",
    "            tmp+=','\n",
    "    a += '\"line' +str(i+1)+ '\": ['+tmp+']' \n",
    "    if i != 2**ip-1:\n",
    "        a+=','\n",
    "\n",
    "a+= '},\"outputs\": {'\n",
    "\n",
    "for i in range(2**line):\n",
    "    tmp = \"\"\n",
    "    for j in range(op):\n",
    "        tmp += str(bool(int(input())))\n",
    "        if j != op-1:\n",
    "            tmp+=','\n",
    "    a +='\"line' +str(i+1)+ '\": ['+ tmp +']'\n",
    "    if i != 2**ip-1:\n",
    "        a+=','\n",
    "        \n",
    "a += '}}'"
   ]
  },
  {
   "cell_type": "markdown",
   "metadata": {},
   "source": [
    "### JSON Outputs"
   ]
  },
  {
   "cell_type": "code",
   "execution_count": 4,
   "metadata": {},
   "outputs": [
    {
     "name": "stdout",
     "output_type": "stream",
     "text": [
      "{\"head\": {\"no_of_input\": 0,\"no_of_output\": 0}, \"inputs\": {\"line1\": []},\"outputs\": {\"line1\": []}}\n"
     ]
    }
   ],
   "source": [
    "print(a)"
   ]
  },
  {
   "cell_type": "code",
   "execution_count": 5,
   "metadata": {},
   "outputs": [],
   "source": [
    "val = ast.literal_eval(a)\n",
    "json_data = json.loads(json.dumps(val))\n",
    "\n",
    "no_ip = json_data['head'][\"no_of_input\"]\n",
    "no_op = json_data['head'][\"no_of_output\"]\n",
    "inputs = json_data['inputs']\n",
    "output = json_data['outputs']"
   ]
  },
  {
   "cell_type": "code",
   "execution_count": 6,
   "metadata": {
    "scrolled": true
   },
   "outputs": [
    {
     "name": "stdout",
     "output_type": "stream",
     "text": [
      "[[], []]\n"
     ]
    }
   ],
   "source": [
    "for in_line, out_line in zip(inputs, output):\n",
    "    print([inputs[in_line], output[out_line]])"
   ]
  },
  {
   "cell_type": "code",
   "execution_count": null,
   "metadata": {},
   "outputs": [],
   "source": []
  }
 ],
 "metadata": {
  "kernelspec": {
   "display_name": "Python 3",
   "language": "python",
   "name": "python3"
  },
  "language_info": {
   "codemirror_mode": {
    "name": "ipython",
    "version": 3
   },
   "file_extension": ".py",
   "mimetype": "text/x-python",
   "name": "python",
   "nbconvert_exporter": "python",
   "pygments_lexer": "ipython3",
   "version": "3.6.2"
  }
 },
 "nbformat": 4,
 "nbformat_minor": 2
}
