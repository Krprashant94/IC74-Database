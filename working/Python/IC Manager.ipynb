{
 "cells": [
  {
   "cell_type": "markdown",
   "metadata": {},
   "source": [
    "# Notes\n",
    "\n",
    "- The 74 in the above list can be replaced with 54 to generate the 5400 series. The 5400 series were functionally the same as the 7400 series but with wider operating and storage temperature ranges, better resistance to vibration and mechanical shock, and other abuse. The more robust 5400 series was built to military specifications, commonly known as milspec.\n",
    "- A few alphabetic characters to designate a specific logic subfamily may immediately follow the 74 or 54 in the part number, e.g., 74LS74 for Low-power Schottky vs. 74HCT74 for High-speed CMOS with TTL-compatible input thresholds. Not all functions are available in all families.\n",
    "- In a few instances, such as the 7478 and 74107, the same suffix in different families do not have completely equivalent logic functions.\n"
   ]
  },
  {
   "cell_type": "markdown",
   "metadata": {},
   "source": [
    "# Spicifications\n",
    "- 74xx or 74Nxx: Standard TTL – These devices are the original TTL family of logic gates introduced in the early 70’s. They have a propagation delay of about 10ns and a power consumption of about 10mW. Supply voltage range: 4.75 to 5.25 volts\n",
    "-  74Lxx: Low Power TTL – Power consumption was improved over standard types by increasing the number of internal resistances but at the cost of a reduction in switching speed. Supply voltage range: 4.75 to 5.25 volts\n",
    "-  74Hxx: High Speed TTL – Switching speed was improved by reducing the number of internal resistances. This also increased the power consumption. Supply voltage range: 4.75 to 5.25 volts\n",
    "-  74Sxx: Schottky TTL – Schottky technology is used to improve input impedance, switching speed and power consumption (2mW) compared to the 74Lxx and 74Hxx types. Supply voltage range: 4.75 to 5.25 volts\n",
    "-  74LSxx: Low Power Schottky TTL – Same as 74Sxx types but with increased internal resistances to improve power consumption. Supply voltage range: 4.75 to 5.25 volts\n",
    "-  74ASxx: Advanced Schottky TTL – Improved design over 74Sxx Schottky types optimised to increase switching speed at the expense of power consumption of about 22mW. Supply voltage range: 4.5 to 5.5 volts\n",
    "-  74ALSxx: Advanced Low Power Schottky TTL – Lower power consumption of about 1mW and higher switching speed of 4nS compared to 74LSxx types. Supply voltage range: 4.5 to 5.5 volts\n",
    "-  74HCxx: High Speed CMOS – CMOS technology and transistors to reduce power consumption of less than 1uA with CMOS compatible inputs. Supply voltage range: 4.5 to 5.5 volts\n",
    "-  74HCTxx: High Speed CMOS – CMOS technology and transistors to reduce power consumption of less than 1uA but has increased propagation delay of about 16nS due to the TTL compatible inputs. Supply voltage range: 4.5 to 5.5 volts"
   ]
  },
  {
   "cell_type": "markdown",
   "metadata": {},
   "source": [
    "##### Technology indicator:\n",
    "Some of more popular ones you'll encounter are:\n",
    "- None - When no indicator is found, this implies it's the original TTL\n",
    "\n",
    "##### Specs/Temp Indicator:\n",
    "- 75 - Interface device\n",
    "- 74 - Commercial Grade\n",
    "- 64 - Industrial\n",
    "- 54 - Military/Airspace Grade\n",
    "\n",
    "##### Bipolar\n",
    "- S - Schottky logic.\n",
    "- LS - Low-power Schottky. Same as L series but with reduced power consumption and switching speed.\n",
    "\n",
    "##### CMOS\n",
    "- C - CMOS\n",
    "- AC / ACT - Advanced CMOS (T version for TTL-compatible inputs)\n",
    "- HC / HCT - High-speed CMOS, similar to LS (T version for TTL-compatible inputs)\n",
    "- AHC / AHCT - Advanced high-speed CMOS (T version for TTL-compatible inputs)\n",
    "- LV / LVC' - Low-Voltage CMOS \n",
    "\n",
    "##### BiCMOS\n",
    "- BCT - BiCMOS\n",
    "- ABT - Advanced BiCMOS\n",
    "\n",
    "##### Gates Count (surface mount ICs only)\n",
    "- 1G = 1\n",
    "- 2G = 2\n",
    "- 3G = 3\n",
    "\n",
    "##### Package Designation\n",
    "- D - DIP\n",
    "- DB - SSOP\n",
    "- FK - LCCC\n",
    "- J - CDIP\n",
    "- N - Plastic DIP\n",
    "- NS - SOP\n",
    "- PS - SOP\n",
    "- T - Flat package\n",
    "- W - CFP"
   ]
  },
  {
   "cell_type": "markdown",
   "metadata": {},
   "source": [
    "# Imports"
   ]
  },
  {
   "cell_type": "code",
   "execution_count": 2,
   "metadata": {},
   "outputs": [],
   "source": [
    "import psycopg2\n",
    "import base64"
   ]
  },
  {
   "cell_type": "markdown",
   "metadata": {},
   "source": [
    "### SQL DATABASE\n",
    "\n",
    "__init__()\n",
    "__del__() \n",
    "__close()\n",
    "__open()\n",
    "create()\n",
    "upload()\n",
    "show()\n",
    "get()\n",
    "update()\n",
    "request_update()\n",
    "save()"
   ]
  },
  {
   "cell_type": "code",
   "execution_count": 2,
   "metadata": {},
   "outputs": [],
   "source": [
    "class DataBase:\n",
    "    \"\"\"\n",
    "    SQL DATABASE\n",
    "    \"\"\"\n",
    "    def __init__(self):\n",
    "        self.proparty = [\"IC_NO\", \"UNIT\", \"PINS\", \"DISC\", \"DIMENSION\", \"INPUT\", \"OUTPUT\", \"TYPE\", \"PACKAGE\", \"TRUTH_TABLE\", \"OPERATION\"]\n",
    "        self.__open()\n",
    "        \n",
    "    def __del__(self):\n",
    "        self.__close()\n",
    "        \n",
    "    def __close(self):\n",
    "        print(\"close\")\n",
    "        self.__conn.close()\n",
    "        \n",
    "    def __open(self):\n",
    "        print(\"Open\")\n",
    "        db_username = 'kehnpahh'\n",
    "        db_password = 'sJHgHTMcTwA72WbeC9280rnlbbZLyrug'\n",
    "        db_host = 'tantor.db.elephantsql.com'\n",
    "        db_port = 5432\n",
    "        db_database = 'kehnpahh'\n",
    "        self.__conn = psycopg2.connect(database=db_database, \n",
    "                                       user= db_username, \n",
    "                                       password=db_password,\n",
    "                                       host=db_host,\n",
    "                                       port=db_port)\n",
    "    def encode(self, string):\n",
    "        encoded = base64.b64encode(bytes(string, \"utf-8\"))\n",
    "        tmp_enc = encoded.decode('utf-8').replace(\"=\", \"^\")\n",
    "        enc = \"\"\n",
    "        for c in tmp_enc:\n",
    "            enc += (chr(ord(c)+1))\n",
    "        return enc\n",
    "    def decode(self, string):\n",
    "        dec = \"\"\n",
    "        for c in string.replace(\"_\", \">\"):\n",
    "            dec += (chr(ord(c)-1))\n",
    "        data = base64.b64decode(dec)\n",
    "        return data.decode('utf-8')\n",
    "        \n",
    "    def create(self):\n",
    "        try:\n",
    "            cur = self.__conn.cursor()\n",
    "            cur.execute('''CREATE TABLE NONAME\n",
    "                     (IC_NO CHAR(100) PRIMARY KEY     NOT NULL,\n",
    "                     UNIT           TEXT    NOT NULL,\n",
    "                     PINS            TEXT     NOT NULL,\n",
    "                     DISC            TEXT     NOT NULL,\n",
    "                     DIMENSION           TEXT    NOT NULL,\n",
    "                     INPUT           TEXT    NOT NULL,\n",
    "                     OUTPUT           TEXT    NOT NULL,\n",
    "                     TYPE           TEXT    NOT NULL,\n",
    "                     PACKAGE           TEXT    NOT NULL,\n",
    "                     TRUTH_TABLE           TEXT    NOT NULL,\n",
    "                     OPERATION           TEXT    NOT NULL);''')\n",
    "            cur.close()\n",
    "            self.__conn.commit()\n",
    "            return True\n",
    "        except Exception as e:\n",
    "            print(\"create(): \"+str(e))\n",
    "            return False\n",
    "        \n",
    "    def upload(self):\n",
    "        try:\n",
    "            f = open(\"74XX Serise.txt\", 'r')\n",
    "            d = f.read()\n",
    "            cur = self.__conn.cursor()\n",
    "            for line in d.split('\\n'):\n",
    "                info = line.split('\\t')\n",
    "                print(info[0])\n",
    "                cur.execute(\"INSERT INTO NONAME (IC_NO ,UNIT,PINS,DISC,DIMENSION, INPUT, OUTPUT, TYPE, PACKAGE, TRUTH_TABLE, OPERATION)  VALUES (%s, %s, %s, %s, %s, %s, %s, %s, %s, %s, %s )\", (self.encode(info[0]) , self.encode(info[1]) , self.encode(info[2]) , self.encode(info[3]), self.encode(info[4]), self.encode(info[5]), self.encode(info[6]), self.encode(info[7]), self.encode(info[8]), self.encode('{\"head\": {\"no_of_input\": 0,\"no_of_output\": 0}, \"inputs\": {\"line1\": []},\"outputs\": {\"line1\": []}}'), self.encode(\"NA\")));\n",
    "            cur.close()\n",
    "            self.__conn.commit()\n",
    "            f.close()\n",
    "            return True\n",
    "        except Exception as e:\n",
    "            print(\"upload() :\"+str(e))\n",
    "            return False\n",
    "    def show(self):\n",
    "        cur = self.__conn.cursor()\n",
    "        cur.execute(\"SELECT * from NONAME\")\n",
    "        i = 0\n",
    "        while True:\n",
    "            row = cur.fetchone()\n",
    "            if row == None:\n",
    "                break\n",
    "            if row[7] != \"NA\":\n",
    "                i+=1\n",
    "            print(i)\n",
    "        cur.close()\n",
    "        self.__conn.commit()\n",
    "    \n",
    "    def get(self, id):\n",
    "        cur = self.__conn.cursor()\n",
    "        id = self.encode(id)\n",
    "        cur.execute(\"SELECT * from NONAME WHERE IC_NO = '\"+str(id)+\"'\")\n",
    "        d = []\n",
    "        while True:\n",
    "            row = cur.fetchone()\n",
    "            if row == None:\n",
    "                break\n",
    "            tmp = []\n",
    "            for item in row:\n",
    "                tmp.append(self.decode(item))\n",
    "            d = tmp.copy()\n",
    "        cur.close()\n",
    "        self.__conn.commit()\n",
    "        return d\n",
    "    \n",
    "    def getAll(self):\n",
    "        cur = self.__conn.cursor()\n",
    "        cur.execute(\"SELECT IC_NO from NONAME\")\n",
    "        d = []\n",
    "        while True:\n",
    "            row = cur.fetchone()\n",
    "            if row == None:\n",
    "                break\n",
    "            tmp = []\n",
    "            for item in row:\n",
    "                d.append(self.decode(item))\n",
    "        cur.close()\n",
    "        self.__conn.commit()\n",
    "        d.sort()\n",
    "        return d\n",
    "        \n",
    "        \n",
    "    def update(self):\n",
    "        print(\"[.] to accept\\n[Enter] to skip\\n\")\n",
    "        f = open(\"update.ic\", 'r')\n",
    "        d = f.read()\n",
    "        i = 1\n",
    "        for line in d.split('\\n'):\n",
    "            if line:\n",
    "                print(str(i)+\". -----------------------------\\n\")\n",
    "                i+=1\n",
    "                info = line.split('\\t')\n",
    "                ic_info = self.get(info[0])\n",
    "                print(ic_info)\n",
    "                print(info[1]+\" : \"+ ic_info[self.proparty.index(info[1])] +\" --> \"+ info[2])\n",
    "                ans = input()\n",
    "                if ans == \".\":\n",
    "                    cur = self.__conn.cursor()\n",
    "                    cur.execute(\"UPDATE NONAME set \"+str(info[1])+\" = '\"+self.encode(str(info[2]))+\"' where IC_NO = '\"+self.encode(str(info[0]))+\"'\")\n",
    "                    cur.close()\n",
    "                    self.__conn.commit()\n",
    "                    print(\"Done.\\n\")\n",
    "        \n",
    "    def request_update(self, id, field, value):\n",
    "        if field in self.proparty:\n",
    "            f = open(\"update.ic\", 'a')\n",
    "            f.write(str(id) + '\\t'+str(field)+'\\t'+value+'\\tNO\\n')\n",
    "            f.close()\n",
    "            return True\n",
    "        else:\n",
    "            return None\n",
    "        \n",
    "    def toCSV(self, file):\n",
    "        f = open(file, 'w+')\n",
    "        f.write(\"IC_NO ,UNIT,PINS,DISC,DIMENSION, INPUT, OUTPUT, TYPE, PACKAGE, TRUTH_TABLE, OPERATION\\n\")\n",
    "        cursor = self.__conn.cursor()\n",
    "        cursor.execute(\"SELECT * from NONAME\")\n",
    "        for row in cursor:\n",
    "            for item in row:\n",
    "                item = self.decode(item)\n",
    "                if ',' in str(item):\n",
    "                    item = item.replace('\"','\"\"')\n",
    "                    f.write('\"'+str(item)+'\"')\n",
    "                else:\n",
    "                    f.write(str(item))                    \n",
    "                f.write(',')\n",
    "            f.write('\\n')\n",
    "        cursor.close()\n",
    "        self.__conn.commit()\n",
    "        f.close()\n",
    "        \n",
    "    def save(self, file):\n",
    "        f = open(file, 'w+')\n",
    "        cur = self.__conn.cursor()\n",
    "        cur.execute(\"SELECT * from NONAME\")\n",
    "        while True:\n",
    "            row = cur.fetchone()\n",
    "            if row == None:\n",
    "                break\n",
    "            for item in row:\n",
    "                item = self.decode(item)\n",
    "                f.write(str(item))                    \n",
    "                f.write('\\t')\n",
    "            f.write('\\n')\n",
    "        cur.close()\n",
    "        self.__conn.commit()\n",
    "        f.close()"
   ]
  },
  {
   "cell_type": "markdown",
   "metadata": {},
   "source": [
    "# Outputs"
   ]
  },
  {
   "cell_type": "code",
   "execution_count": 3,
   "metadata": {},
   "outputs": [],
   "source": [
    "table_item = [\"IC_NO ,UNIT,PINS,DISC,DIMENSION, INPUT, OUTPUT, TYPE, PACKAGE\", \"TRUTH_TABLE\", \"OPERATION\"]"
   ]
  },
  {
   "cell_type": "code",
   "execution_count": 4,
   "metadata": {},
   "outputs": [
    {
     "name": "stdout",
     "output_type": "stream",
     "text": [
      "Open\n"
     ]
    }
   ],
   "source": [
    "d = DataBase()"
   ]
  },
  {
   "cell_type": "code",
   "execution_count": 5,
   "metadata": {},
   "outputs": [
    {
     "name": "stdout",
     "output_type": "stream",
     "text": [
      "Pass\n"
     ]
    }
   ],
   "source": [
    "# d.update()\n",
    "# ic_no = int(input())\n",
    "# IC_NO ,UNIT,PINS,DISC,DIMENSION, INPUT, OUTPUT, TYPE, PACKAGE, TRUTH_TABLE, OPERATION = d.get(ic_no)\n",
    "# print(table_item)\n",
    "# print(IC_NO ,UNIT,PINS,DISC,DIMENSION, INPUT, OUTPUT, TYPE, PACKAGE, TRUTH_TABLE, OPERATION)\n",
    "\n",
    "# f = (input(\"Enter Field Name  : \"))\n",
    "# v = (input(\"Enter Field Value : \"))\n",
    "# print(d.request_update('7410', f, v))\n",
    "print(\"Pass\")"
   ]
  },
  {
   "cell_type": "code",
   "execution_count": 6,
   "metadata": {},
   "outputs": [
    {
     "name": "stdout",
     "output_type": "stream",
     "text": [
      "Pass\n"
     ]
    }
   ],
   "source": [
    "# d.create()\n",
    "# d.upload()\n",
    "# d.save(\"list.txt\")\n",
    "print(\"Pass\")"
   ]
  },
  {
   "cell_type": "code",
   "execution_count": 7,
   "metadata": {
    "scrolled": true
   },
   "outputs": [
    {
     "name": "stdout",
     "output_type": "stream",
     "text": [
      "pass\n"
     ]
    }
   ],
   "source": [
    "# print(d.request_update('7404','TRUTH_TABLE','{\"head\": {\"no_of_input\": 1,\"no_of_output\": 1}, \"inputs\": {\"line1\": [False],\"line2\": [True]},\"outputs\": {\"line1\": [True],\"line2\": [False]}}'))\n",
    "# d.update()\n",
    "print(\"pass\")"
   ]
  },
  {
   "cell_type": "code",
   "execution_count": 8,
   "metadata": {},
   "outputs": [],
   "source": [
    "# print(d.get('7400'))\n",
    "# IC_NO ,UNIT,PINS,DISC,DIMENSION, INPUT, OUTPUT, TYPE, PACKAGE, TRUTH_TABLE, OPERATION = d.get(ic_no)\n",
    "# print(IC_NO ,UNIT,PINS,DISC,DIMENSION, INPUT, OUTPUT, TYPE, PACKAGE, TRUTH_TABLE, OPERATION)"
   ]
  }
 ],
 "metadata": {
  "kernelspec": {
   "display_name": "Python 3",
   "language": "python",
   "name": "python3"
  },
  "language_info": {
   "codemirror_mode": {
    "name": "ipython",
    "version": 3
   },
   "file_extension": ".py",
   "mimetype": "text/x-python",
   "name": "python",
   "nbconvert_exporter": "python",
   "pygments_lexer": "ipython3",
   "version": "3.6.2"
  }
 },
 "nbformat": 4,
 "nbformat_minor": 2
}
